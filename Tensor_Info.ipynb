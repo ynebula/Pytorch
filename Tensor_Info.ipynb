{
 "cells": [
  {
   "cell_type": "markdown",
   "metadata": {},
   "source": [
    "## 1. torch\n",
    "메인 네임스페이스\n",
    "\n",
    "## 2. torch.autograd\n",
    "자동 미분을 위한 함수들이 포함되어져 있음\n",
    "\n",
    "## 3. torch.nn\n",
    "신경망을 구축하기 위한 다양한 데이터 구조나 레이어 등이 정의되어져 있습니다.\n",
    "\n",
    "## 4. torch.optim\n",
    "파라미터 최적화 알고리즘이 구현되어져 있습니다.\n",
    "\n",
    "## 5. torch.utils.data\n",
    "확률적 경사 하강법(Stochastic Gradient Descent, SGD)의 반복 연산을 실행할 때 사용하는 미니 배치용 유틸리티 함수가 포함되어져 있습니다.\n",
    "\n",
    "## 6. torch.onnx\n",
    "ONNX(Open Neural Network Exchange)의 포맷으로 모델을 익스포트(export)할 때 사용합니다. ONNX는 서로 다른 딥 러닝 프레임워크 간에 모델을 공유할 때 사용하는 포맷입니다."
   ]
  },
  {
   "cell_type": "markdown",
   "metadata": {},
   "source": [
    "### 벡터, 행렬, 텐서\n",
    "- 1차원: Vector\n",
    "- 2차원: Matrix\n",
    "- 3차원 이상: Tensor"
   ]
  },
  {
   "cell_type": "markdown",
   "metadata": {},
   "source": [
    "## 2D Tensor(Typical Simple Setting)\n",
    "|t| = (Batch size, dim)\n",
    "\n",
    "## 3D Tensor(Typical Computer Vision) - 비전 분야에서의 3차원 텐서\n",
    "|t| = (batch size, width, height)\n",
    "\n",
    "## 3D Tensor(Typical Natural Language Processing) - NLP 분야에서의 3차원 텐서\n",
    "|t| = (batch size, length, dim)\n",
    "\n"
   ]
  },
  {
   "cell_type": "code",
   "execution_count": null,
   "metadata": {},
   "outputs": [],
   "source": []
  }
 ],
 "metadata": {
  "kernelspec": {
   "display_name": "Python 3",
   "language": "python",
   "name": "python3"
  },
  "language_info": {
   "codemirror_mode": {
    "name": "ipython",
    "version": 3
   },
   "file_extension": ".py",
   "mimetype": "text/x-python",
   "name": "python",
   "nbconvert_exporter": "python",
   "pygments_lexer": "ipython3",
   "version": "3.7.6"
  }
 },
 "nbformat": 4,
 "nbformat_minor": 4
}
